{
  "nbformat": 4,
  "nbformat_minor": 0,
  "metadata": {
    "colab": {
      "provenance": []
    },
    "kernelspec": {
      "name": "python3",
      "display_name": "Python 3"
    },
    "language_info": {
      "name": "python"
    }
  },
  "cells": [
    {
      "cell_type": "markdown",
      "source": [
        "## 1. Library Initialization:\n",
        "  ##        2. Matrix Operations Functions:\n",
        "making custom package for ai_matrix_operations"
      ],
      "metadata": {
        "id": "qFYWLvc2jXZ8"
      }
    },
    {
      "cell_type": "code",
      "execution_count": null,
      "metadata": {
        "colab": {
          "base_uri": "https://localhost:8080/"
        },
        "id": "xWO0roj2XNpZ",
        "outputId": "7f59aa63-cb0d-434b-eb9b-29a59398357b"
      },
      "outputs": [
        {
          "output_type": "stream",
          "name": "stdout",
          "text": [
            "Writing ai_matrix_ops.py\n"
          ]
        }
      ],
      "source": [
        "%%writefile ai_matrix_ops.py\n",
        "#writing custom package ai_matrix_ops.py\n",
        "import numpy as np #usign numpy\n",
        "def matrix_multiply(matrix1, matrix2):\n",
        "    return np.dot(matrix1, matrix2)\n",
        "\n",
        "def matrix_inversion(matrix):\n",
        "    return np.linalg.inv(matrix)\n",
        "\n",
        "def matrix_determinant(matrix):\n",
        "    return np.linalg.det(matrix)\n",
        "\n",
        "def linear_system_solver(matrix_A, vector_b):\n",
        "    return np.linalg.solve(matrix_A, vector_b)\n",
        "\n",
        "def matrix_eigenvalues(matrix):\n",
        "    return np.linalg.eigvals(matrix)\n",
        "\n",
        "def matrix_decomposition(matrix, method='svd'):\n",
        "    if method.lower() == 'svd':\n",
        "        return np.linalg.svd(matrix)\n",
        "    elif method.lower() == 'lu':\n",
        "        return np.linalg.lu(matrix)\n",
        "    elif method.lower() == 'qr':\n",
        "        return np.linalg.qr(matrix)\n",
        "    elif method.lower() == 'cholesky':\n",
        "        return np.linalg.cholesky(matrix)\n",
        "    else:\n",
        "        raise ValueError(\"Invalid decomposition method. Choose one of 'svd', 'lu', 'qr', or 'cholesky'.\")\n",
        "\n",
        "def matrix_norms(matrix, method='fro'):\n",
        "    if method.lower() == 'fro':\n",
        "        return np.linalg.norm(matrix, ord='fro')\n",
        "    elif method.lower() == '1':\n",
        "        return np.linalg.norm(matrix, ord='1')\n",
        "    elif method.lower() == '2':\n",
        "        return np.linalg.norm(matrix, ord='2')\n",
        "    elif method.lower() == 'inf':\n",
        "        return np.linalg.norm(matrix, ord='inf')\n",
        "    else:\n",
        "        raise ValueError(\"Invalid Norms method. Choose one of 'fro', '1', '2', or 'inf'.\")\n"
      ]
    },
    {
      "cell_type": "markdown",
      "source": [
        "# 3. Unit Testing:\n",
        "making seperate file for testing"
      ],
      "metadata": {
        "id": "uvGC1FlPjpa6"
      }
    },
    {
      "cell_type": "code",
      "source": [
        "%%writefile test_ai_matrix_ops.py\n",
        "#making another file for testing\n",
        "import numpy as np\n",
        "import unittest #using built-in unittest lib\n",
        "\n",
        "# Import functions from the AI library\n",
        "from ai_matrix_ops import matrix_multiply, matrix_inversion, matrix_determinant, linear_system_solver, matrix_eigenvalues, matrix_decomposition, matrix_norms\n",
        "\n",
        "class TestMatrixOperations(unittest.TestCase):\n",
        "\n",
        "    def test_matrix_multiply(self):\n",
        "        #Similar dimensions\n",
        "        matrix1 = np.array([[1, 2], [3, 4]])\n",
        "        matrix2 = np.array([[5, 6], [7, 8]])\n",
        "        expected_result = np.array([[19, 22], [43, 50]])\n",
        "        self.assertTrue(np.array_equal(matrix_multiply(matrix1, matrix2), expected_result)) #True if expected = computed result\n",
        "\n",
        "        #Different Dimensions\n",
        "        matrix1 = np.array([[2]])\n",
        "        matrix2 = np.array([[3, 4]])\n",
        "        expected_result = np.array([[6, 8]])\n",
        "        self.assertTrue(np.array_equal(matrix_multiply(matrix1, matrix2), expected_result)) #True if expected = computed result\n",
        "\n",
        "    def test_matrix_inversion(self):\n",
        "        #Square Matrix\n",
        "        matrix = np.array([[1, 2], [3, 4]])\n",
        "        expected_result = np.array([[-2., 1.], [1.5, -0.5]])\n",
        "        self.assertTrue(np.allclose(matrix_inversion(matrix), expected_result))\n",
        "\n",
        "        #Non-square matrix\n",
        "        matrix = np.array([[1, 2, 3], [4, 5, 6]])\n",
        "        with self.assertRaises(np.linalg.LinAlgError): #True if passes with no error\n",
        "            matrix_inversion(matrix)\n",
        "\n",
        "    def test_matrix_determinant(self):\n",
        "        #Square matrix\n",
        "        matrix = np.array([[1, 2], [3, 4]])\n",
        "        expected_determinant = -2\n",
        "        self.assertAlmostEqual(matrix_determinant(matrix), expected_determinant)\n",
        "\n",
        "        #Non-square matrix\n",
        "        matrix = np.array([[1, 2, 3], [4, 5, 6]])\n",
        "        with self.assertRaises(ValueError):  #True if passes with no error\n",
        "            matrix_determinant(matrix)\n",
        "\n",
        "    def test_linear_system_solver(self):\n",
        "        #Square coefficient(A) matrix\n",
        "        matrix_A = np.array([[2, 3], [1, -2]])\n",
        "        vector_b = np.array([7, 1])\n",
        "        expected_solution = np.array([1.66666667, 1.33333333])\n",
        "        self.assertTrue(np.allclose(linear_system_solver(matrix_A, vector_b), expected_solution)) #True if expected = computed result\n",
        "\n",
        "        #Non-Square system\n",
        "        matrix_A = np.array([[2, 3], [4, 6]])\n",
        "        vector_b = np.array([7, 1])\n",
        "        with self.assertRaises(np.linalg.LinAlgError):#True if passes with no error\n",
        "            linear_system_solver(matrix_A, vector_b)\n",
        "\n",
        "    def test_matrix_eigenvalues(self):\n",
        "        # Square matrix\n",
        "        matrix = np.array([[1, 2], [3, 4]])\n",
        "        expected_eigenvalues = np.array([-0.37228132, 5.37228132])\n",
        "        calculated_eigenvalues = matrix_eigenvalues(matrix)\n",
        "        self.assertTrue(np.allclose(calculated_eigenvalues, expected_eigenvalues)) #True if expected = computed result\n",
        "\n",
        "        #Non-square matrix\n",
        "        matrix = np.array([[1, 2, 3], [4, 5, 6]])\n",
        "        with self.assertRaises(ValueError): #True if passes with no error\n",
        "            matrix_eigenvalues(matrix)\n",
        "\n",
        "    def test_matrix_decomposition(self):\n",
        "        #SVD decomposition\n",
        "        matrix = np.array([[1, 2], [3, 4]])\n",
        "        U, S, V = matrix_decomposition(matrix, method='svd')\n",
        "        reconstructed_matrix = np.dot(U, np.dot(np.diag(S), V))\n",
        "        self.assertTrue(np.allclose(reconstructed_matrix, matrix))#True if expected = computed result\n",
        "\n",
        "        #LU decomposition\n",
        "        matrix = np.array([[1, 2], [3, 4]])\n",
        "        P, L, U = matrix_decomposition(matrix, method='lu')\n",
        "        reconstructed_matrix = np.dot(P, np.dot(L, U))\n",
        "        self.assertTrue(np.allclose(reconstructed_matrix, matrix))#True if expected = computed result\n",
        "\n",
        "    def test_matrix_norms(self):\n",
        "        #Frobenius norm\n",
        "        matrix = np.array([[1, 2], [3, 4]])\n",
        "        frobenius_norm = matrix_norms(matrix, method='fro')\n",
        "        expected_frobenius_norm = np.linalg.norm(matrix, 'fro')\n",
        "        self.assertAlmostEqual(frobenius_norm, expected_frobenius_norm)#True if expected = computed result\n",
        "\n",
        "        #1-norm\n",
        "        matrix = np.array([[1, -2], [3, 4]])\n",
        "        one_norm = matrix_norms(matrix, method='1')\n",
        "        expected_one_norm = np.linalg.norm(matrix, 1)\n",
        "        self.assertAlmostEqual(one_norm, expected_one_norm)#True if expected = computed result\n",
        "\n",
        "if __name__ == '__main__':\n",
        "    unittest.main(verbosity = 2)\n"
      ],
      "metadata": {
        "colab": {
          "base_uri": "https://localhost:8080/"
        },
        "id": "GVTWr5c3XN_y",
        "outputId": "47505363-09db-4364-afe5-74d02173336d"
      },
      "execution_count": null,
      "outputs": [
        {
          "output_type": "stream",
          "name": "stdout",
          "text": [
            "Overwriting test_ai_matrix_ops.py\n"
          ]
        }
      ]
    },
    {
      "cell_type": "code",
      "source": [
        "!python test_ai_matrix_ops.py"
      ],
      "metadata": {
        "colab": {
          "base_uri": "https://localhost:8080/"
        },
        "id": "j63vwYKXX8gi",
        "outputId": "54c5539d-a2de-43d0-835f-e5a34104a357"
      },
      "execution_count": null,
      "outputs": [
        {
          "output_type": "stream",
          "name": "stdout",
          "text": [
            "test_linear_system_solver (__main__.TestMatrixOperations) ... FAIL\n",
            "test_matrix_decomposition (__main__.TestMatrixOperations) ... ERROR\n",
            "test_matrix_determinant (__main__.TestMatrixOperations) ... ok\n",
            "test_matrix_eigenvalues (__main__.TestMatrixOperations) ... ok\n",
            "test_matrix_inversion (__main__.TestMatrixOperations) ... ok\n",
            "test_matrix_multiply (__main__.TestMatrixOperations) ... ok\n",
            "test_matrix_norms (__main__.TestMatrixOperations) ... ERROR\n",
            "\n",
            "======================================================================\n",
            "ERROR: test_matrix_decomposition (__main__.TestMatrixOperations)\n",
            "----------------------------------------------------------------------\n",
            "Traceback (most recent call last):\n",
            "  File \"/content/test_ai_matrix_ops.py\", line 79, in test_matrix_decomposition\n",
            "    P, L, U = matrix_decomposition(matrix, method='lu')\n",
            "  File \"/content/ai_matrix_ops.py\", line 21, in matrix_decomposition\n",
            "    return np.linalg.lu(matrix)\n",
            "AttributeError: module 'numpy.linalg' has no attribute 'lu'\n",
            "\n",
            "======================================================================\n",
            "ERROR: test_matrix_norms (__main__.TestMatrixOperations)\n",
            "----------------------------------------------------------------------\n",
            "Traceback (most recent call last):\n",
            "  File \"/content/test_ai_matrix_ops.py\", line 94, in test_matrix_norms\n",
            "    one_norm = matrix_norms(matrix, method='1')\n",
            "  File \"/content/ai_matrix_ops.py\", line 33, in matrix_norms\n",
            "    return np.linalg.norm(matrix, ord='1')\n",
            "  File \"/usr/local/lib/python3.10/dist-packages/numpy/linalg/linalg.py\", line 2625, in norm\n",
            "    raise ValueError(\"Invalid norm order for matrices.\")\n",
            "ValueError: Invalid norm order for matrices.\n",
            "\n",
            "======================================================================\n",
            "FAIL: test_linear_system_solver (__main__.TestMatrixOperations)\n",
            "----------------------------------------------------------------------\n",
            "Traceback (most recent call last):\n",
            "  File \"/content/test_ai_matrix_ops.py\", line 50, in test_linear_system_solver\n",
            "    self.assertTrue(np.allclose(linear_system_solver(matrix_A, vector_b), expected_solution))\n",
            "AssertionError: False is not true\n",
            "\n",
            "----------------------------------------------------------------------\n",
            "Ran 7 tests in 0.035s\n",
            "\n",
            "FAILED (failures=1, errors=2)\n"
          ]
        }
      ]
    },
    {
      "cell_type": "markdown",
      "source": [
        "# 4. Library Usage Example:"
      ],
      "metadata": {
        "id": "78Ip6s94jzKg"
      }
    },
    {
      "cell_type": "code",
      "source": [
        "%%writefile example_usage.py\n",
        "\n",
        "import numpy as np\n",
        "from ai_matrix_ops import linear_system_solver, matrix_multiply\n",
        "\n",
        "# Define a complex linear system\n",
        "A = np.array([[2, 1, 12],\n",
        "              [1, 24, 5],\n",
        "              [3, 1, 17]])\n",
        "\n",
        "b = np.array([2, 3, 1])\n",
        "\n",
        "# Solve the linear system using the library function\n",
        "x = linear_system_solver(A, b)\n",
        "print(\"Solution to the linear system:\")\n",
        "print(x)\n",
        "\n",
        "# Verify the solution by multiplying A with the solution vector\n",
        "print(\"Verification:\")\n",
        "print(matrix_multiply(A, x)) #if a, x = b (given[2,3,1]),  then output is correct\n",
        "\n"
      ],
      "metadata": {
        "colab": {
          "base_uri": "https://localhost:8080/"
        },
        "id": "FQRIZLTYYbID",
        "outputId": "cb0bf13d-a1d1-452b-f99a-488486900fee"
      },
      "execution_count": null,
      "outputs": [
        {
          "output_type": "stream",
          "name": "stdout",
          "text": [
            "Overwriting example_usage.py\n"
          ]
        }
      ]
    },
    {
      "cell_type": "code",
      "source": [
        "!python example_usage.py"
      ],
      "metadata": {
        "colab": {
          "base_uri": "https://localhost:8080/"
        },
        "id": "AKQjMNkHZ9TP",
        "outputId": "b63a8b9f-3726-49bf-aab5-05dcceaa881d"
      },
      "execution_count": null,
      "outputs": [
        {
          "output_type": "stream",
          "name": "stdout",
          "text": [
            "Solution to the linear system:\n",
            "[0.83333333 0.83333333 0.5       ]\n",
            "Verification:\n",
            "[2. 3. 1.]\n"
          ]
        }
      ]
    },
    {
      "cell_type": "markdown",
      "source": [
        "# 6. Performance Analysis:"
      ],
      "metadata": {
        "id": "8jQlkeytkGMo"
      }
    },
    {
      "cell_type": "code",
      "source": [
        "import numpy as np\n",
        "import time\n",
        "import ai_matrix_ops\n",
        "\n",
        "size = 2 #test size\n",
        "matrix1 = np.random.rand(size, size) #random matrix 1 generated\n",
        "matrix2 = np.random.rand(size, size) #random matrix 2 generated\n",
        "\n",
        "#Multiplication:\n",
        "start_time = time.time()\n",
        "multiply = matrix_multiply(matrix1, matrix2) #for AI\n",
        "end_time = time.time()\n",
        "execution_ai_multiply = end_time - start_time\n",
        "\n",
        "start_time = time.time()\n",
        "multiply2 = np.dot(matrix1, matrix2) #for Numpy\n",
        "end_time = time.time()\n",
        "execution_np_multiply = end_time - start_time\n",
        "\n",
        "print(\"Execution time for AI library multiplication:\", execution_ai_multiply)\n",
        "print(\"Execution time for NumPy multiplication:\", execution_np_multiply)\n",
        "if execution_ai_multiply>execution_np_multiply:\n",
        "  print(\"AI Library is faster for multiplication of matrices\")\n",
        "else:\n",
        "  print(\"Numpy is faster for multiplication of matrices\")\n",
        "\n",
        "#Inversion:\n",
        "start_time = time.time()\n",
        "inverse = matrix_inversion(matrix1) #for AI\n",
        "end_time = time.time()\n",
        "execution_ai_inverse = end_time - start_time\n",
        "\n",
        "start_time = time.time()\n",
        "inverse2 = np.linalg.inv(matrix1) #for Numpy\n",
        "end_time = time.time()\n",
        "execution_np_inverse = end_time - start_time\n",
        "\n",
        "print(\"Execution time for AI library inverse:\", execution_ai_inverse)\n",
        "print(\"Execution time for NumPy inverse:\", execution_np_inverse)\n",
        "if execution_ai_inverse>execution_np_inverse:\n",
        "  print(\"AI Library is faster for inverse of matrix\")\n",
        "else:\n",
        "  print(\"Numpy is faster for inverse of matrices\")\n",
        "\n",
        "#Determinant:\n",
        "start_time = time.time()\n",
        "det = matrix_determinant(matrix1) #for AI\n",
        "end_time = time.time()\n",
        "execution_ai_det = end_time - start_time\n",
        "\n",
        "start_time = time.time()\n",
        "det2 = np.linalg.det(matrix1) #for Numpy\n",
        "end_time = time.time()\n",
        "execution_np_det = end_time - start_time\n",
        "\n",
        "print(\"Execution time for AI library determinant:\", execution_ai_det)\n",
        "print(\"Execution time for NumPy determinant:\", execution_np_det)\n",
        "if execution_ai_det>execution_np_det:\n",
        "  print(\"AI Library is faster for determinants of matrix\")\n",
        "else:\n",
        "  print(\"Numpy is faster for determinants of matrices\")\n",
        "\n",
        "#Linear Solver:\n",
        "start_time = time.time()\n",
        "solve = linear_system_solver(matrix1, vector_b = [2, 3]) #for AI\n",
        "end_time = time.time()\n",
        "execution_ai_solve = end_time - start_time\n",
        "\n",
        "start_time = time.time()\n",
        "det2 = np.linalg.solve(matrix1, [2, 3]) #for Numpy\n",
        "end_time = time.time()\n",
        "execution_np_solve = end_time - start_time\n",
        "\n",
        "print(\"Execution time for AI library Linear System Solution:\", execution_ai_solve)\n",
        "print(\"Execution time for NumPy library Linear System Solution:\", execution_np_solve)\n",
        "if execution_ai_solve>execution_np_solve:\n",
        "  print(\"AI Library is faster for linear solution\")\n",
        "else:\n",
        "  print(\"Numpy is faster for linear solution\")\n",
        "\n",
        "\n",
        "#Eigen Values:\n",
        "start_time = time.time()\n",
        "eigen = matrix_eigenvalues(matrix1) #for AI\n",
        "end_time = time.time()\n",
        "execution_ai_eigen = end_time - start_time\n",
        "\n",
        "start_time = time.time()\n",
        "eigen2 = np.linalg.eigvals(matrix1) #for Numpy\n",
        "end_time = time.time()\n",
        "execution_np_eigen = end_time - start_time\n",
        "\n",
        "print(\"Execution time for AI Eigen Values:\", execution_ai_eigen)\n",
        "print(\"Execution time for NumPy library Eigen Values:\", execution_np_eigen)\n",
        "if execution_ai_eigen>execution_np_eigen:\n",
        "  print(\"AI Library is faster for Eigen Values\")\n",
        "else:\n",
        "  print(\"Numpy is faster for Eigen Values\")\n",
        "\n",
        "#Matrix Decomposition:\n",
        "start_time = time.time()\n",
        "eigen = matrix_decomposition(matrix1, method = 'svd') #for AI\n",
        "end_time = time.time()\n",
        "execution_ai_dec = end_time - start_time\n",
        "\n",
        "start_time = time.time()\n",
        "eigen2 = np.linalg.svd(matrix1) #for Numpy\n",
        "end_time = time.time()\n",
        "execution_np_dec = end_time - start_time\n",
        "\n",
        "print(\"Execution time for AI Matrix Decomposition:\", execution_ai_dec)\n",
        "print(\"Execution time for NumPy library Matrix Decomposition\", execution_np_dec)\n",
        "if execution_ai_dec>execution_np_dec:\n",
        "  print(\"AI Library is faster for Matrix Decomposition\")\n",
        "else:\n",
        "  print(\"Numpy is faster for Matrix Decomposition\")\n",
        "\n",
        "#Matrix Norms;\n",
        "start_time = time.time()\n",
        "norms =  matrix_norms(matrix1, method='fro') #for AI\n",
        "end_time = time.time()\n",
        "execution_ai_norms = end_time - start_time\n",
        "\n",
        "start_time = time.time()\n",
        "norms2 = np.linalg.norm(matrix1, ord='fro') #for Numpy\n",
        "end_time = time.time()\n",
        "execution_np_norms = end_time - start_time\n",
        "\n",
        "print(\"Execution time for AI Matrix Norms:\", execution_ai_norms)\n",
        "print(\"Execution time for NumPy library Matrix Norms:\", execution_np_norms)\n",
        "if execution_ai_norms>execution_np_norms:\n",
        "  print(\"AI Library is faster for Matrix Norms\")\n",
        "else:\n",
        "  print(\"Numpy is faster for Matrix Norms\")"
      ],
      "metadata": {
        "colab": {
          "base_uri": "https://localhost:8080/"
        },
        "id": "D0y8-IcNaOVa",
        "outputId": "d5b19735-c13c-4957-8832-edb38f24975d"
      },
      "execution_count": null,
      "outputs": [
        {
          "output_type": "stream",
          "name": "stdout",
          "text": [
            "Execution time for AI library multiplication: 6.723403930664062e-05\n",
            "Execution time for NumPy multiplication: 7.82012939453125e-05\n",
            "Numpy is faster for multiplication of matrices\n",
            "Execution time for AI library inverse: 0.0011539459228515625\n",
            "Execution time for NumPy inverse: 0.0001308917999267578\n",
            "AI Library is faster for inverse of matrix\n",
            "Execution time for AI library determinant: 0.0001289844512939453\n",
            "Execution time for NumPy determinant: 0.00012731552124023438\n",
            "AI Library is faster for determinants of matrix\n",
            "Execution time for AI library Linear System Solution: 0.00015974044799804688\n",
            "Execution time for NumPy library Linear System Solution: 0.00012302398681640625\n",
            "AI Library is faster for linear solution\n",
            "Execution time for AI Eigen Values: 0.0002655982971191406\n",
            "Execution time for NumPy library Eigen Values: 0.0001506805419921875\n",
            "AI Library is faster for Eigen Values\n",
            "Execution time for AI Matrix Decomposition: 0.00016880035400390625\n",
            "Execution time for NumPy library Matrix Decomposition 0.00013446807861328125\n",
            "AI Library is faster for Matrix Decomposition\n",
            "Execution time for AI Matrix Norms: 0.00012159347534179688\n",
            "Execution time for NumPy library Matrix Norms: 9.822845458984375e-05\n",
            "AI Library is faster for Matrix Norms\n"
          ]
        }
      ]
    },
    {
      "cell_type": "code",
      "source": [],
      "metadata": {
        "id": "YCC3x64_cEEK"
      },
      "execution_count": null,
      "outputs": []
    },
    {
      "cell_type": "markdown",
      "source": [],
      "metadata": {
        "id": "sEqBwB9Qiu6P"
      }
    }
  ]
}